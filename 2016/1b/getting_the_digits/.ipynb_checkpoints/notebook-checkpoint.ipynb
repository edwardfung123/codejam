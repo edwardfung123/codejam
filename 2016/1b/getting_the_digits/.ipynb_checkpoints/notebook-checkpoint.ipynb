{
 "cells": [
  {
   "cell_type": "code",
   "execution_count": 46,
   "metadata": {
    "collapsed": false
   },
   "outputs": [
    {
     "name": "stdout",
     "output_type": "stream",
     "text": [
      "Counter({'E': 3, 'I': 2, 'S': 2, 'G': 1, 'H': 1, 'N': 1, 'T': 1, 'V': 1, 'X': 1})\n",
      "Counter({'E': 3, 'G': 1, 'I': 1, 'H': 1, 'N': 1, 'S': 1, 'T': 1, 'V': 1})\n",
      "Counter({'I': 1, 'H': 1, 'E': 1, 'T': 1, 'G': 1})\n",
      "Counter()\n"
     ]
    },
    {
     "data": {
      "text/plain": [
       "'1678'"
      ]
     },
     "execution_count": 46,
     "metadata": {},
     "output_type": "execute_result"
    }
   ],
   "source": [
    "from pprint import pprint as pp\n",
    "from collections import Counter\n",
    "\n",
    "s = 'OZONETOWER'    # 012\n",
    "s = 'WEIGHFOXTOURIST'  # 2468\n",
    "# s = 'OURNEONFOE'   # 114\n",
    "# s = 'ETHER'  # 3\n",
    "s = 'EEGINVEXNSISTOEH'\n",
    "digits = {\n",
    "    0: 'ZERO',\n",
    "    1: 'ONE',\n",
    "    2: 'TWO',\n",
    "    3: 'THREE',\n",
    "    4: 'FOUR',\n",
    "    5: 'FIVE',\n",
    "    6: 'SIX',\n",
    "    7: 'SEVEN',\n",
    "    8: 'EIGHT',\n",
    "    9: 'NINE',\n",
    "}\n",
    "\n",
    "digit_counters = {k: Counter(v) for k, v in digits.iteritems()}\n",
    "# pp(digit_counters)\n",
    "\n",
    "def haveDigit(c, counter):\n",
    "    for char, count in counter.iteritems():\n",
    "        if char not in c or c[char] < count:\n",
    "            return False\n",
    "    return True\n",
    "\n",
    "def find_answer(s):\n",
    "    c = Counter(s)\n",
    "    # pp(c)\n",
    "    ret = []\n",
    "    for digit, counter in digit_counters.iteritems():\n",
    "        while haveDigit(c, counter):\n",
    "            ret.append(str(digit))\n",
    "            c -= counter\n",
    "            pp(c)\n",
    "    return ''.join(ret)\n",
    "    \n",
    "find_answer(s)"
   ]
  },
  {
   "cell_type": "code",
   "execution_count": 33,
   "metadata": {
    "collapsed": false
   },
   "outputs": [
    {
     "data": {
      "text/plain": [
       "Counter({'E': 4,\n",
       "         'G': 1,\n",
       "         'H': 1,\n",
       "         'I': 2,\n",
       "         'N': 3,\n",
       "         'O': 1,\n",
       "         'S': 1,\n",
       "         'T': 2,\n",
       "         'V': 1,\n",
       "         'W': 1})"
      ]
     },
     "execution_count": 33,
     "metadata": {},
     "output_type": "execute_result"
    }
   ],
   "source": [
    "Counter('ETNVEITGHENOWSINE')"
   ]
  },
  {
   "cell_type": "code",
   "execution_count": 29,
   "metadata": {
    "collapsed": false
   },
   "outputs": [
    {
     "data": {
      "text/plain": [
       "'111'"
      ]
     },
     "execution_count": 29,
     "metadata": {},
     "output_type": "execute_result"
    }
   ],
   "source": [
    "'1' * int(round(2.5))"
   ]
  },
  {
   "cell_type": "code",
   "execution_count": null,
   "metadata": {
    "collapsed": true
   },
   "outputs": [],
   "source": []
  }
 ],
 "metadata": {
  "kernelspec": {
   "display_name": "Python 2",
   "language": "python",
   "name": "python2"
  },
  "language_info": {
   "codemirror_mode": {
    "name": "ipython",
    "version": 2
   },
   "file_extension": ".py",
   "mimetype": "text/x-python",
   "name": "python",
   "nbconvert_exporter": "python",
   "pygments_lexer": "ipython2",
   "version": "2.7.10"
  }
 },
 "nbformat": 4,
 "nbformat_minor": 0
}
