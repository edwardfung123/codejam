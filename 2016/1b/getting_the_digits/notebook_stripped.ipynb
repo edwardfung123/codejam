{
 "cells": [
  {
   "cell_type": "code",
   "execution_count": 2,
   "metadata": {
    "collapsed": false
   },
   "outputs": [
    {
     "name": "stdout",
     "output_type": "stream",
     "text": [
      "[(0, [1, 0]), (1, [1, 0]), (5, [2, 1, 0]), (6, [1, 0]), (7, [1, 0])]\n",
      "ZEROONEFIVEFIVESIXSEVEN\n",
      "Counter({'E': 2, 'N': 1, 'S': 1, 'V': 1, 'F': 0, 'I': 0, 'O': 0, 'R': 0, 'X': 0, 'Z': 0})\n",
      "----\n",
      "ZEROONEFIVEFIVESIX\n",
      "Counter({'E': 0, 'F': 0, 'I': 0, 'O': 0, 'N': 0, 'S': 0, 'R': 0, 'V': 0, 'X': 0, 'Z': 0})\n"
     ]
    },
    {
     "data": {
      "text/plain": [
       "'01556'"
      ]
     },
     "execution_count": 2,
     "metadata": {},
     "output_type": "execute_result"
    }
   ],
   "source": [
    "from pprint import pprint as pp\n",
    "from collections import Counter\n",
    "from itertools import product\n",
    "\n",
    "s = 'OZONETOWER'    # 012\n",
    "# s = 'WEIGHFOXTOURIST'  # 2468\n",
    "# s = 'OURNEONFOE'   # 114\n",
    "# s = 'ETHER'  # 3\n",
    "# s = 'EEGINVEXNSISTOEH'\n",
    "# s = 'NINRENEUFOO'\n",
    "# s = 'ENNNZIRNEEIO'\n",
    "s = 'VEOVEIFIZNERFXIEOS'\n",
    "\n",
    "digits = {\n",
    "    0: 'ZERO',\n",
    "    1: 'ONE',\n",
    "    2: 'TWO',\n",
    "    3: 'THREE',\n",
    "    4: 'FOUR',\n",
    "    5: 'FIVE',\n",
    "    6: 'SIX',\n",
    "    7: 'SEVEN',\n",
    "    8: 'EIGHT',\n",
    "    9: 'NINE',\n",
    "}\n",
    "\n",
    "digit_counters = {k: Counter(v) for k, v in digits.iteritems()}\n",
    "# pp(digit_counters)\n",
    "\n",
    "def haveDigit(c, counter):\n",
    "    for char, count in counter.iteritems():\n",
    "        if char not in c or c[char] < count:\n",
    "            return False\n",
    "    return True\n",
    "\n",
    "def getCount(c, counter):\n",
    "    possible_n = min([c[char]/count for char, count in counter.iteritems()])\n",
    "    n = max(1, possible_n)\n",
    "    return n\n",
    "\n",
    "def allZeroes(counter):\n",
    "    for k, v in counter.iteritems():\n",
    "        if v != 0:\n",
    "            return False\n",
    "    return True\n",
    "\n",
    "def find_answer(s):\n",
    "    c = Counter(s)\n",
    "    # pp(c)\n",
    "    ret = []\n",
    "    possible_digit_and_count = [(digit, range(getCount(c, counter), -1, -1)) for digit, counter in digit_counters.iteritems() if haveDigit(c, counter)]\n",
    "    print possible_digit_and_count\n",
    "    all_ranges = [r for digit, r, in possible_digit_and_count]\n",
    "    pr = product(*all_ranges)\n",
    "    for p in pr:\n",
    "        digits_str = [str(possible_digit_and_count[i][0]) * count for i, count in enumerate(p) if count > 0]\n",
    "        ss = ''.join([digits[possible_digit_and_count[i][0]] * count for i, count in enumerate(p) if count > 0])\n",
    "        print ss\n",
    "        counter_ss = Counter(ss)\n",
    "        counter_ss.subtract(c)\n",
    "        print counter_ss\n",
    "        if allZeroes(counter_ss):\n",
    "            ret = digits_str\n",
    "            return ''.join(ret)\n",
    "        print '----'\n",
    "            \n",
    "    return ret\n",
    "    \n",
    "\n",
    "find_answer(s)"
   ]
  },
  {
   "cell_type": "code",
   "execution_count": null,
   "metadata": {
    "collapsed": false
   },
   "outputs": [],
   "source": [
    "tcs = [\n",
    "    'OZONETOWER'    # 012\n",
    "'WEIGHFOXTOURIST'  # 2468\n",
    "'OURNEONFOE'   # 114\n",
    " 'ETHER'  # 3\n",
    " 'EEGINVEXNSISTOEH'\n",
    " 'NINRENEUFOO'\n",
    "'ENNNZIRNEEIO'\n",
    "'VEOVEIFIZNERFXIEOS'\n",
    "]\n",
    "\n",
    "for s in tcs:\n",
    "    print find_answer(s)"
   ]
  },
  {
   "cell_type": "code",
   "execution_count": 4,
   "metadata": {
    "collapsed": false
   },
   "outputs": [
    {
     "name": "stdout",
     "output_type": "stream",
     "text": [
      "Counter({'N': 2, 'I': 1, 'E': 1})\n"
     ]
    },
    {
     "data": {
      "text/plain": [
       "'NINE FOUR ONE'"
      ]
     },
     "execution_count": 4,
     "metadata": {},
     "output_type": "execute_result"
    }
   ],
   "source": [
    "print(Counter('NINRENEUFOO') - Counter('ONEFOUR'))\n",
    "\n",
    "'NINEUFOR NEO'\n",
    "'NINE FOUR ONE'\n"
   ]
  },
  {
   "cell_type": "code",
   "execution_count": 95,
   "metadata": {
    "collapsed": false
   },
   "outputs": [],
   "source": [
    "'1' * int(round(2.5))"
   ]
  },
  {
   "cell_type": "code",
   "execution_count": 96,
   "metadata": {
    "collapsed": false
   },
   "outputs": [],
   "source": [
    "'ENNNZIRNEEIO'\n",
    "\n",
    "'zEro NINE NINE'"
   ]
  }
 ],
 "metadata": {
  "kernelspec": {
   "display_name": "Python 2",
   "language": "python",
   "name": "python2"
  },
  "language_info": {
   "codemirror_mode": {
    "name": "ipython",
    "version": 2
   },
   "file_extension": ".py",
   "mimetype": "text/x-python",
   "name": "python",
   "nbconvert_exporter": "python",
   "pygments_lexer": "ipython2",
   "version": "2.7.10"
  }
 },
 "nbformat": 4,
 "nbformat_minor": 0
}
