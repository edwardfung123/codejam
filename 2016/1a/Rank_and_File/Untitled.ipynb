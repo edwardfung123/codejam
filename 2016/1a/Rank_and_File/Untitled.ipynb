{
 "cells": [
  {
   "cell_type": "code",
   "execution_count": 19,
   "metadata": {
    "collapsed": false
   },
   "outputs": [
    {
     "name": "stdout",
     "output_type": "stream",
     "text": [
      "[(1, 0), (1, 4), (2, 1), (2, 3), (3, 2)]\n",
      "[[1, 2, 3], [0, 0, 0], [0, 0, 0]]\n",
      "[1, 2, 3]\n",
      "---\n",
      "0 1\n",
      "[1, 2, 3]\n",
      "[1, 2, 3]\n",
      "1 2\n",
      "[0, 0, 0]\n",
      "[2, 0, 0]\n",
      "2 3\n",
      "[0, 0, 0]\n",
      "[3, 0, 0]\n",
      "[[1, 2, 3], [2, 0, 0], [3, 0, 0]]\n"
     ]
    }
   ],
   "source": [
    "tcs = [\n",
    "    {\n",
    "        'lines': [\n",
    "            [1, 2, 3,],\n",
    "            [2, 3, 5,],\n",
    "            [3, 5, 6,],\n",
    "            [2, 3, 4,],\n",
    "            [1, 2, 3,],\n",
    "        ],\n",
    "        'n': 3,\n",
    "    }\n",
    "]\n",
    "\n",
    "def find_answer(n, lines):\n",
    "    missing = None\n",
    "    matrix = [[0 for x in range(n)] for x in range(n)]\n",
    "    # find the smallest number in the first letter, which is the top-left\n",
    "    first_letters = [(l[0], i) for i, l in enumerate(lines)]\n",
    "    sorted_first_letters = sorted(first_letters, key=lambda l: l[0])\n",
    "    print sorted_first_letters\n",
    "    # use the first one as the first row\n",
    "    ith_element = 0\n",
    "    first_row_idx = sorted_first_letters[0][1]\n",
    "    first_row = lines[first_row_idx]\n",
    "    matrix[0] = first_row\n",
    "    print matrix\n",
    "    # the second one is the first col if its first element == the first element in first row\n",
    "    first_col_idx = sorted_first_letters[1][1]\n",
    "    first_col = lines[first_col_idx]\n",
    "    if first_col[0] == first_row[0]:\n",
    "        for y, e in enumerate(first_col):\n",
    "            matrix[y][ith_element] = first_col[y]\n",
    "    else:\n",
    "        missing = ('c', 0)\n",
    "    \n",
    "    print matrix\n",
    "        \n",
    "\n",
    "for tc in tcs:\n",
    "    answer = find_answer(tc['n'], tc['lines'])"
   ]
  },
  {
   "cell_type": "code",
   "execution_count": null,
   "metadata": {
    "collapsed": true
   },
   "outputs": [],
   "source": []
  }
 ],
 "metadata": {
  "kernelspec": {
   "display_name": "Python 2",
   "language": "python",
   "name": "python2"
  },
  "language_info": {
   "codemirror_mode": {
    "name": "ipython",
    "version": 2
   },
   "file_extension": ".py",
   "mimetype": "text/x-python",
   "name": "python",
   "nbconvert_exporter": "python",
   "pygments_lexer": "ipython2",
   "version": "2.7.10"
  }
 },
 "nbformat": 4,
 "nbformat_minor": 0
}
