{
 "cells": [
  {
   "cell_type": "code",
   "execution_count": 90,
   "metadata": {
    "collapsed": false
   },
   "outputs": [
    {
     "name": "stdout",
     "output_type": "stream",
     "text": [
      "c = \n",
      "[[0, 0, 0, 0, 0, 0, 1, 0, 0, 0], [0, 0, 0, 0, 0, 0, 0, 1, 0, 0], [0, 0, 0, 0, 0, 0, 0, 0, 0, 1], [0, 0, 0, 0, 0, 0, 0, 0, 0, 1], [0, 0, 0, 0, 0, 0, 0, 0, 1, 0], [0, 1, 0, 0, 0, 0, 0, 0, 0, 0], [0, 0, 0, 0, 0, 0, 0, 0, 1, 0], [0, 0, 0, 0, 0, 1, 0, 0, 0, 0], [0, 0, 1, 0, 0, 0, 0, 0, 0, 0], [0, 0, 1, 0, 0, 0, 0, 0, 0, 0]]\n",
      "[6, 7, 9, 9, 8, 1, 8, 5, 2, 2]\n"
     ]
    }
   ],
   "source": [
    "bff = [2, 3, 4, 1,]\n",
    "bff = [3, 3, 4, 1,]\n",
    "bff = [3, 3, 4, 3]\n",
    "bff = [7, 8, 10, 10, 9, 2, 9, 6, 3, 3,]\n",
    "\n",
    "n = len(bff)\n",
    "c = [[1 if i == bf - 1 else 0 for i in xrange(0, n, 1)] for bf in bff]\n",
    "adj = [bf - 1 for i, bf in enumerate(bff)]\n",
    "\n",
    "print 'c = '\n",
    "print c\n",
    "print adj\n"
   ]
  },
  {
   "cell_type": "code",
   "execution_count": 99,
   "metadata": {
    "collapsed": false,
    "scrolled": true
   },
   "outputs": [
    {
     "name": "stdout",
     "output_type": "stream",
     "text": [
      "(<SimplePath nodes=[0, 6, 8, 2, 9], is_cyclic=True, cycle_start_node_index=3, is_cyclic_tail=True>,\n",
      " True,\n",
      " 5)\n",
      "(<SimplePath nodes=[1, 7, 5], is_cyclic=True, cycle_start_node_index=0, is_cyclic_tail=False>,\n",
      " True,\n",
      " 3)\n",
      "(<SimplePath nodes=[2, 9], is_cyclic=True, cycle_start_node_index=0, is_cyclic_tail=True>,\n",
      " True,\n",
      " 2)\n",
      "(<SimplePath nodes=[3, 9, 2], is_cyclic=True, cycle_start_node_index=1, is_cyclic_tail=True>,\n",
      " True,\n",
      " 3)\n",
      "(<SimplePath nodes=[4, 8, 2, 9], is_cyclic=True, cycle_start_node_index=2, is_cyclic_tail=True>,\n",
      " True,\n",
      " 4)\n",
      "(<SimplePath nodes=[5, 1, 7], is_cyclic=True, cycle_start_node_index=0, is_cyclic_tail=False>,\n",
      " True,\n",
      " 3)\n",
      "(<SimplePath nodes=[6, 8, 2, 9], is_cyclic=True, cycle_start_node_index=2, is_cyclic_tail=True>,\n",
      " True,\n",
      " 4)\n",
      "(<SimplePath nodes=[7, 5, 1], is_cyclic=True, cycle_start_node_index=0, is_cyclic_tail=False>,\n",
      " True,\n",
      " 3)\n",
      "(<SimplePath nodes=[8, 2, 9], is_cyclic=True, cycle_start_node_index=1, is_cyclic_tail=True>,\n",
      " True,\n",
      " 3)\n",
      "(<SimplePath nodes=[9, 2], is_cyclic=True, cycle_start_node_index=0, is_cyclic_tail=True>,\n",
      " True,\n",
      " 2)\n"
     ]
    }
   ],
   "source": [
    "# def path(i, adj):\n",
    "#     print '----'\n",
    "#     print i\n",
    "#     p = [i]\n",
    "#     cur = i\n",
    "#     n = len(adj)\n",
    "#     cycle = False\n",
    "#     while len(p) < n:\n",
    "#         next = adj[cur]\n",
    "#         print 'next = %d' % next\n",
    "#         if next in p:\n",
    "#             # loop\n",
    "#             cycle = True\n",
    "#             break\n",
    "#         p.append(next)\n",
    "#         cur = next\n",
    "#     return p, cycle\n",
    "\n",
    "class SimplePath(object):\n",
    "    def __init__(self, i, adj):\n",
    "        self.nodes = [i]\n",
    "        self.is_cyclic = False\n",
    "        self.is_cyclic_tail = False\n",
    "        self.cycle_start_node_index = None\n",
    "        \n",
    "        n = len(adj)\n",
    "        cur = i\n",
    "        # print '----'\n",
    "        for i in xrange(0, n):\n",
    "            next = adj[cur]\n",
    "            # print 'next = %d' % next\n",
    "            self.is_cyclic = next in self.nodes\n",
    "            if self.is_cyclic:\n",
    "                # print 'loop'\n",
    "                # loop\n",
    "                self.cycle_start_node_index = self.nodes.index(next)\n",
    "                if next == self.nodes[-2]:\n",
    "                    self.is_cyclic_tail = True\n",
    "                break\n",
    "            self.nodes.append(next)\n",
    "            cur = next\n",
    "            \n",
    "    def __repr__(self):\n",
    "        return '<SimplePath nodes={nodes}, is_cyclic={is_cyclic}, cycle_start_node_index={cycle_start_node_index}, is_cyclic_tail={is_cyclic_tail}>'.format(\n",
    "            nodes=self.nodes, is_cyclic=self.is_cyclic, is_cyclic_tail=self.is_cyclic_tail,\n",
    "            cycle_start_node_index=self.cycle_start_node_index)\n",
    "    \n",
    "    def __len__(self):\n",
    "        return len(self.nodes)\n",
    "    \n",
    "    @property\n",
    "    def cyclic_tail(self):\n",
    "        return nodes[-2:] if self.is_cyclic_tail else None\n",
    "    \n",
    "    @property\n",
    "    def head(self):\n",
    "        return nodes[:-2]\n",
    "    \n",
    "    @property\n",
    "    def is_circle(self):\n",
    "        if self.is_cyclic == False:\n",
    "            return False\n",
    "        else:\n",
    "            if self.cycle_start_node_index == 0:\n",
    "                return True\n",
    "            elif self.is_cyclic_tail == True:\n",
    "                return True\n",
    "        return False\n",
    "    \n",
    "    @property\n",
    "    def is_complete_circle(self):\n",
    "        return self.is_cyclic and self.cycle_star_node_index == 0\n",
    "\n",
    "    def can_join_path(self, other):\n",
    "        both_has_cyclic_tail = self.is_cyclic_tail == True and othre.is_cyclic_tail == True\n",
    "        same_tail = self.tail[0] == other.tail[1] and self.tail[1] == other.tail[0]\n",
    "        different_head = set(self.head).isdisjoint(set(other.head))\n",
    "        return (both_has_cyclic_tail and same_tail and different_head) \n",
    "    \n",
    "    \n",
    "paths = [SimplePath(i, adj) for i in xrange(0, n)]\n",
    "valid_paths = [p for p in paths if p.is_circle]\n",
    "from pprint import pprint as pp\n",
    "#pp(paths)\n",
    "for p in valid_paths:\n",
    "    pp((p, p.is_circle, len(p)))\n"
   ]
  },
  {
   "cell_type": "code",
   "execution_count": 48,
   "metadata": {
    "collapsed": false
   },
   "outputs": [
    {
     "name": "stdout",
     "output_type": "stream",
     "text": [
      "c = \n",
      "[[0, 0, 0, 0, 0, 0, 1, 0, 0, 0], [0, 0, 0, 0, 0, 0, 0, 1, 0, 0], [0, 0, 0, 0, 0, 0, 0, 0, 0, 1], [0, 0, 0, 0, 0, 0, 0, 0, 0, 1], [0, 0, 0, 0, 0, 0, 0, 0, 1, 0], [0, 1, 0, 0, 0, 0, 0, 0, 0, 0], [0, 0, 0, 0, 0, 0, 0, 0, 1, 0], [0, 0, 0, 0, 0, 1, 0, 0, 0, 0], [0, 0, 1, 0, 0, 0, 0, 0, 0, 0], [0, 0, 1, 0, 0, 0, 0, 0, 0, 0]]\n",
      "c^2 = \n",
      "[[0, 0, 0, 0, 0, 0, 0, 0, 1, 0], [0, 0, 0, 0, 0, 1, 0, 0, 0, 0], [0, 0, 1, 0, 0, 0, 0, 0, 0, 0], [0, 0, 1, 0, 0, 0, 0, 0, 0, 0], [0, 0, 1, 0, 0, 0, 0, 0, 0, 0], [0, 0, 0, 0, 0, 0, 0, 1, 0, 0], [0, 0, 1, 0, 0, 0, 0, 0, 0, 0], [0, 1, 0, 0, 0, 0, 0, 0, 0, 0], [0, 0, 0, 0, 0, 0, 0, 0, 0, 1], [0, 0, 0, 0, 0, 0, 0, 0, 0, 1]]\n",
      "2\n",
      "c^3 = \n",
      "[[0, 0, 1, 0, 0, 0, 0, 0, 0, 0], [0, 1, 0, 0, 0, 0, 0, 0, 0, 0], [0, 0, 0, 0, 0, 0, 0, 0, 0, 1], [0, 0, 0, 0, 0, 0, 0, 0, 0, 1], [0, 0, 0, 0, 0, 0, 0, 0, 0, 1], [0, 0, 0, 0, 0, 1, 0, 0, 0, 0], [0, 0, 0, 0, 0, 0, 0, 0, 0, 1], [0, 0, 0, 0, 0, 0, 0, 1, 0, 0], [0, 0, 1, 0, 0, 0, 0, 0, 0, 0], [0, 0, 1, 0, 0, 0, 0, 0, 0, 0]]\n",
      "3\n",
      "c^4 = \n",
      "[[0, 0, 0, 0, 0, 0, 0, 0, 0, 1], [0, 0, 0, 0, 0, 0, 0, 1, 0, 0], [0, 0, 1, 0, 0, 0, 0, 0, 0, 0], [0, 0, 1, 0, 0, 0, 0, 0, 0, 0], [0, 0, 1, 0, 0, 0, 0, 0, 0, 0], [0, 1, 0, 0, 0, 0, 0, 0, 0, 0], [0, 0, 1, 0, 0, 0, 0, 0, 0, 0], [0, 0, 0, 0, 0, 1, 0, 0, 0, 0], [0, 0, 0, 0, 0, 0, 0, 0, 0, 1], [0, 0, 0, 0, 0, 0, 0, 0, 0, 1]]\n",
      "2\n",
      "c^5 = \n",
      "[[0, 0, 1, 0, 0, 0, 0, 0, 0, 0], [0, 0, 0, 0, 0, 1, 0, 0, 0, 0], [0, 0, 0, 0, 0, 0, 0, 0, 0, 1], [0, 0, 0, 0, 0, 0, 0, 0, 0, 1], [0, 0, 0, 0, 0, 0, 0, 0, 0, 1], [0, 0, 0, 0, 0, 0, 0, 1, 0, 0], [0, 0, 0, 0, 0, 0, 0, 0, 0, 1], [0, 1, 0, 0, 0, 0, 0, 0, 0, 0], [0, 0, 1, 0, 0, 0, 0, 0, 0, 0], [0, 0, 1, 0, 0, 0, 0, 0, 0, 0]]\n",
      "0\n",
      "c^6 = \n",
      "[[0, 0, 0, 0, 0, 0, 0, 0, 0, 1], [0, 1, 0, 0, 0, 0, 0, 0, 0, 0], [0, 0, 1, 0, 0, 0, 0, 0, 0, 0], [0, 0, 1, 0, 0, 0, 0, 0, 0, 0], [0, 0, 1, 0, 0, 0, 0, 0, 0, 0], [0, 0, 0, 0, 0, 1, 0, 0, 0, 0], [0, 0, 1, 0, 0, 0, 0, 0, 0, 0], [0, 0, 0, 0, 0, 0, 0, 1, 0, 0], [0, 0, 0, 0, 0, 0, 0, 0, 0, 1], [0, 0, 0, 0, 0, 0, 0, 0, 0, 1]]\n",
      "5\n",
      "c^7 = \n",
      "[[0, 0, 1, 0, 0, 0, 0, 0, 0, 0], [0, 0, 0, 0, 0, 0, 0, 1, 0, 0], [0, 0, 0, 0, 0, 0, 0, 0, 0, 1], [0, 0, 0, 0, 0, 0, 0, 0, 0, 1], [0, 0, 0, 0, 0, 0, 0, 0, 0, 1], [0, 1, 0, 0, 0, 0, 0, 0, 0, 0], [0, 0, 0, 0, 0, 0, 0, 0, 0, 1], [0, 0, 0, 0, 0, 1, 0, 0, 0, 0], [0, 0, 1, 0, 0, 0, 0, 0, 0, 0], [0, 0, 1, 0, 0, 0, 0, 0, 0, 0]]\n",
      "0\n",
      "c^8 = \n",
      "[[0, 0, 0, 0, 0, 0, 0, 0, 0, 1], [0, 0, 0, 0, 0, 1, 0, 0, 0, 0], [0, 0, 1, 0, 0, 0, 0, 0, 0, 0], [0, 0, 1, 0, 0, 0, 0, 0, 0, 0], [0, 0, 1, 0, 0, 0, 0, 0, 0, 0], [0, 0, 0, 0, 0, 0, 0, 1, 0, 0], [0, 0, 1, 0, 0, 0, 0, 0, 0, 0], [0, 1, 0, 0, 0, 0, 0, 0, 0, 0], [0, 0, 0, 0, 0, 0, 0, 0, 0, 1], [0, 0, 0, 0, 0, 0, 0, 0, 0, 1]]\n",
      "2\n",
      "c^9 = \n",
      "[[0, 0, 1, 0, 0, 0, 0, 0, 0, 0], [0, 1, 0, 0, 0, 0, 0, 0, 0, 0], [0, 0, 0, 0, 0, 0, 0, 0, 0, 1], [0, 0, 0, 0, 0, 0, 0, 0, 0, 1], [0, 0, 0, 0, 0, 0, 0, 0, 0, 1], [0, 0, 0, 0, 0, 1, 0, 0, 0, 0], [0, 0, 0, 0, 0, 0, 0, 0, 0, 1], [0, 0, 0, 0, 0, 0, 0, 1, 0, 0], [0, 0, 1, 0, 0, 0, 0, 0, 0, 0], [0, 0, 1, 0, 0, 0, 0, 0, 0, 0]]\n",
      "3\n",
      "c^10 = \n",
      "[[0, 0, 0, 0, 0, 0, 0, 0, 0, 1], [0, 0, 0, 0, 0, 0, 0, 1, 0, 0], [0, 0, 1, 0, 0, 0, 0, 0, 0, 0], [0, 0, 1, 0, 0, 0, 0, 0, 0, 0], [0, 0, 1, 0, 0, 0, 0, 0, 0, 0], [0, 1, 0, 0, 0, 0, 0, 0, 0, 0], [0, 0, 1, 0, 0, 0, 0, 0, 0, 0], [0, 0, 0, 0, 0, 1, 0, 0, 0, 0], [0, 0, 0, 0, 0, 0, 0, 0, 0, 1], [0, 0, 0, 0, 0, 0, 0, 0, 0, 1]]\n",
      "2\n",
      "5 6 [1, 2, 5, 7, 9]\n"
     ]
    }
   ],
   "source": [
    "def prod(v0, v1, n):\n",
    "    for i in xrange(0, n):\n",
    "        if v0[i] != 0 and v1[i] !=0:\n",
    "            return 1\n",
    "\n",
    "    return 0\n",
    "    \n",
    "def col(m, x):\n",
    "    return [row[x] for row in m]\n",
    "    \n",
    "def mul(m0, m1, n):\n",
    "    ret = [[0 for i in xrange(0, n)] for j in xrange(0, n)]\n",
    "    for y in xrange(0, n, 1):\n",
    "        for x in xrange(0, n):\n",
    "            ret[y][x] = prod(m0[y], col(m1, x), n)\n",
    "    return ret\n",
    "\n",
    "def trace(m, n):\n",
    "    return sum([m[i][i] for i in xrange(0, n)])\n",
    "        \n",
    "def connected(c):\n",
    "    return [i for i in xrange(0, len(c)) if c[i][i] > 0]\n",
    "\n",
    "p = 2\n",
    "c_p = c\n",
    "cycle = False\n",
    "max_tr, max_p, max_connected = 0, 0, None\n",
    "while p <= n :\n",
    "    c_p = mul(c_p, c, n)\n",
    "    print 'c^%d = ' % p\n",
    "    print c_p\n",
    "    tr = trace(c_p, n)\n",
    "    print tr\n",
    "    if tr == n:\n",
    "        max_tr = tr\n",
    "        max_p = p\n",
    "        max_connected = connected(c_p)\n",
    "        break\n",
    "    elif tr > max_tr:\n",
    "        max_tr = tr\n",
    "        max_p = p\n",
    "        max_connected = connected(c_p)        \n",
    "    p += 1\n",
    "    \n",
    "print max_tr, max_p, max_connected"
   ]
  },
  {
   "cell_type": "code",
   "execution_count": 94,
   "metadata": {
    "collapsed": false
   },
   "outputs": [
    {
     "data": {
      "text/plain": [
       "[2, 3, 4]"
      ]
     },
     "execution_count": 94,
     "metadata": {},
     "output_type": "execute_result"
    }
   ],
   "source": [
    "[1,2,3,4][-3:]\n"
   ]
  },
  {
   "cell_type": "code",
   "execution_count": null,
   "metadata": {
    "collapsed": true
   },
   "outputs": [],
   "source": []
  }
 ],
 "metadata": {
  "kernelspec": {
   "display_name": "Python 2",
   "language": "python",
   "name": "python2"
  },
  "language_info": {
   "codemirror_mode": {
    "name": "ipython",
    "version": 2
   },
   "file_extension": ".py",
   "mimetype": "text/x-python",
   "name": "python",
   "nbconvert_exporter": "python",
   "pygments_lexer": "ipython2",
   "version": "2.7.10"
  }
 },
 "nbformat": 4,
 "nbformat_minor": 0
}
