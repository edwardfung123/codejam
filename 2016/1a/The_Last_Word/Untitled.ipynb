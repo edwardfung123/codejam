{
 "cells": [
  {
   "cell_type": "code",
   "execution_count": 2,
   "metadata": {
    "collapsed": false
   },
   "outputs": [
    {
     "name": "stdout",
     "output_type": "stream",
     "text": [
      "True CAB CAB\n",
      "True MJA MJA\n",
      "True OCDE OCDE\n",
      "True BBAAA BBAAA\n",
      "True CCCABBBAB CCCABBBAB\n",
      "True CCCBAABAB CCCBAABAB\n",
      "True ZXCASDQWE ZXCASDQWE\n"
     ]
    }
   ],
   "source": [
    "test_cases = [\n",
    "    ('CAB', 'CAB')\n",
    "    ,('JAM', 'MJA')\n",
    "    ,('CODE', 'OCDE')\n",
    "    ,('ABAAB', 'BBAAA')\n",
    "    ,('CABCBBABC', 'CCCABBBAB')\n",
    "    ,('ABCABCABC', 'CCCBAABAB')\n",
    "    ,('ZXCASDQWE', 'ZXCASDQWE')\n",
    "]\n",
    "\n",
    "\n",
    "\n",
    "def find_answer(s):\n",
    "    result = s[0]\n",
    "    for c in s[1:]:\n",
    "        if c < result[0]:\n",
    "            result = result + c\n",
    "        else:\n",
    "            result = c + result\n",
    "    return result\n",
    "\n",
    "for tc in test_cases:\n",
    "    answer = find_answer(tc[0])\n",
    "    print answer == tc[1], answer, tc[1]"
   ]
  },
  {
   "cell_type": "code",
   "execution_count": null,
   "metadata": {
    "collapsed": true
   },
   "outputs": [],
   "source": []
  }
 ],
 "metadata": {
  "kernelspec": {
   "display_name": "Python 2",
   "language": "python",
   "name": "python2"
  },
  "language_info": {
   "codemirror_mode": {
    "name": "ipython",
    "version": 2
   },
   "file_extension": ".py",
   "mimetype": "text/x-python",
   "name": "python",
   "nbconvert_exporter": "python",
   "pygments_lexer": "ipython2",
   "version": "2.7.10"
  }
 },
 "nbformat": 4,
 "nbformat_minor": 0
}
